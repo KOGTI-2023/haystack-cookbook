{
  "nbformat": 4,
  "nbformat_minor": 0,
  "metadata": {
    "colab": {
      "provenance": []
    },
    "kernelspec": {
      "name": "python3",
      "display_name": "Python 3"
    },
    "language_info": {
      "name": "python"
    },
    "widgets": {
      "application/vnd.jupyter.widget-state+json": {
        "2ec658e152a0446fafdca7e3871941fd": {
          "model_module": "@jupyter-widgets/controls",
          "model_name": "HBoxModel",
          "model_module_version": "1.5.0",
          "state": {
            "_dom_classes": [],
            "_model_module": "@jupyter-widgets/controls",
            "_model_module_version": "1.5.0",
            "_model_name": "HBoxModel",
            "_view_count": null,
            "_view_module": "@jupyter-widgets/controls",
            "_view_module_version": "1.5.0",
            "_view_name": "HBoxView",
            "box_style": "",
            "children": [
              "IPY_MODEL_c8f8b26d39d24fdf9f1cb0486fdbe7f4",
              "IPY_MODEL_562fe276fbb744c592f3415dad3d73ce",
              "IPY_MODEL_56e03c5c4cd044babe9c5615d73d6f48"
            ],
            "layout": "IPY_MODEL_c233714a82c449d493a80de27802c768"
          }
        },
        "c8f8b26d39d24fdf9f1cb0486fdbe7f4": {
          "model_module": "@jupyter-widgets/controls",
          "model_name": "HTMLModel",
          "model_module_version": "1.5.0",
          "state": {
            "_dom_classes": [],
            "_model_module": "@jupyter-widgets/controls",
            "_model_module_version": "1.5.0",
            "_model_name": "HTMLModel",
            "_view_count": null,
            "_view_module": "@jupyter-widgets/controls",
            "_view_module_version": "1.5.0",
            "_view_name": "HTMLView",
            "description": "",
            "description_tooltip": null,
            "layout": "IPY_MODEL_61b38410d626461495dac68c00151861",
            "placeholder": "​",
            "style": "IPY_MODEL_6f714a6073b847a7a8abf28b88f0aec3",
            "value": "Ranking by BM25...: 100%"
          }
        },
        "562fe276fbb744c592f3415dad3d73ce": {
          "model_module": "@jupyter-widgets/controls",
          "model_name": "FloatProgressModel",
          "model_module_version": "1.5.0",
          "state": {
            "_dom_classes": [],
            "_model_module": "@jupyter-widgets/controls",
            "_model_module_version": "1.5.0",
            "_model_name": "FloatProgressModel",
            "_view_count": null,
            "_view_module": "@jupyter-widgets/controls",
            "_view_module_version": "1.5.0",
            "_view_name": "ProgressView",
            "bar_style": "success",
            "description": "",
            "description_tooltip": null,
            "layout": "IPY_MODEL_ef87d486f16645ca8bff0bbd6d45311e",
            "max": 1,
            "min": 0,
            "orientation": "horizontal",
            "style": "IPY_MODEL_3b323667b332464e8f9fb74a7e25ef23",
            "value": 1
          }
        },
        "56e03c5c4cd044babe9c5615d73d6f48": {
          "model_module": "@jupyter-widgets/controls",
          "model_name": "HTMLModel",
          "model_module_version": "1.5.0",
          "state": {
            "_dom_classes": [],
            "_model_module": "@jupyter-widgets/controls",
            "_model_module_version": "1.5.0",
            "_model_name": "HTMLModel",
            "_view_count": null,
            "_view_module": "@jupyter-widgets/controls",
            "_view_module_version": "1.5.0",
            "_view_name": "HTMLView",
            "description": "",
            "description_tooltip": null,
            "layout": "IPY_MODEL_71346e5fe6c54ed4bc5191780a91856c",
            "placeholder": "​",
            "style": "IPY_MODEL_b3390f7319024425a542e522adc88ff2",
            "value": " 1/1 [00:00&lt;00:00, 30.32 docs/s]"
          }
        },
        "c233714a82c449d493a80de27802c768": {
          "model_module": "@jupyter-widgets/base",
          "model_name": "LayoutModel",
          "model_module_version": "1.2.0",
          "state": {
            "_model_module": "@jupyter-widgets/base",
            "_model_module_version": "1.2.0",
            "_model_name": "LayoutModel",
            "_view_count": null,
            "_view_module": "@jupyter-widgets/base",
            "_view_module_version": "1.2.0",
            "_view_name": "LayoutView",
            "align_content": null,
            "align_items": null,
            "align_self": null,
            "border": null,
            "bottom": null,
            "display": null,
            "flex": null,
            "flex_flow": null,
            "grid_area": null,
            "grid_auto_columns": null,
            "grid_auto_flow": null,
            "grid_auto_rows": null,
            "grid_column": null,
            "grid_gap": null,
            "grid_row": null,
            "grid_template_areas": null,
            "grid_template_columns": null,
            "grid_template_rows": null,
            "height": null,
            "justify_content": null,
            "justify_items": null,
            "left": null,
            "margin": null,
            "max_height": null,
            "max_width": null,
            "min_height": null,
            "min_width": null,
            "object_fit": null,
            "object_position": null,
            "order": null,
            "overflow": null,
            "overflow_x": null,
            "overflow_y": null,
            "padding": null,
            "right": null,
            "top": null,
            "visibility": null,
            "width": null
          }
        },
        "61b38410d626461495dac68c00151861": {
          "model_module": "@jupyter-widgets/base",
          "model_name": "LayoutModel",
          "model_module_version": "1.2.0",
          "state": {
            "_model_module": "@jupyter-widgets/base",
            "_model_module_version": "1.2.0",
            "_model_name": "LayoutModel",
            "_view_count": null,
            "_view_module": "@jupyter-widgets/base",
            "_view_module_version": "1.2.0",
            "_view_name": "LayoutView",
            "align_content": null,
            "align_items": null,
            "align_self": null,
            "border": null,
            "bottom": null,
            "display": null,
            "flex": null,
            "flex_flow": null,
            "grid_area": null,
            "grid_auto_columns": null,
            "grid_auto_flow": null,
            "grid_auto_rows": null,
            "grid_column": null,
            "grid_gap": null,
            "grid_row": null,
            "grid_template_areas": null,
            "grid_template_columns": null,
            "grid_template_rows": null,
            "height": null,
            "justify_content": null,
            "justify_items": null,
            "left": null,
            "margin": null,
            "max_height": null,
            "max_width": null,
            "min_height": null,
            "min_width": null,
            "object_fit": null,
            "object_position": null,
            "order": null,
            "overflow": null,
            "overflow_x": null,
            "overflow_y": null,
            "padding": null,
            "right": null,
            "top": null,
            "visibility": null,
            "width": null
          }
        },
        "6f714a6073b847a7a8abf28b88f0aec3": {
          "model_module": "@jupyter-widgets/controls",
          "model_name": "DescriptionStyleModel",
          "model_module_version": "1.5.0",
          "state": {
            "_model_module": "@jupyter-widgets/controls",
            "_model_module_version": "1.5.0",
            "_model_name": "DescriptionStyleModel",
            "_view_count": null,
            "_view_module": "@jupyter-widgets/base",
            "_view_module_version": "1.2.0",
            "_view_name": "StyleView",
            "description_width": ""
          }
        },
        "ef87d486f16645ca8bff0bbd6d45311e": {
          "model_module": "@jupyter-widgets/base",
          "model_name": "LayoutModel",
          "model_module_version": "1.2.0",
          "state": {
            "_model_module": "@jupyter-widgets/base",
            "_model_module_version": "1.2.0",
            "_model_name": "LayoutModel",
            "_view_count": null,
            "_view_module": "@jupyter-widgets/base",
            "_view_module_version": "1.2.0",
            "_view_name": "LayoutView",
            "align_content": null,
            "align_items": null,
            "align_self": null,
            "border": null,
            "bottom": null,
            "display": null,
            "flex": null,
            "flex_flow": null,
            "grid_area": null,
            "grid_auto_columns": null,
            "grid_auto_flow": null,
            "grid_auto_rows": null,
            "grid_column": null,
            "grid_gap": null,
            "grid_row": null,
            "grid_template_areas": null,
            "grid_template_columns": null,
            "grid_template_rows": null,
            "height": null,
            "justify_content": null,
            "justify_items": null,
            "left": null,
            "margin": null,
            "max_height": null,
            "max_width": null,
            "min_height": null,
            "min_width": null,
            "object_fit": null,
            "object_position": null,
            "order": null,
            "overflow": null,
            "overflow_x": null,
            "overflow_y": null,
            "padding": null,
            "right": null,
            "top": null,
            "visibility": null,
            "width": null
          }
        },
        "3b323667b332464e8f9fb74a7e25ef23": {
          "model_module": "@jupyter-widgets/controls",
          "model_name": "ProgressStyleModel",
          "model_module_version": "1.5.0",
          "state": {
            "_model_module": "@jupyter-widgets/controls",
            "_model_module_version": "1.5.0",
            "_model_name": "ProgressStyleModel",
            "_view_count": null,
            "_view_module": "@jupyter-widgets/base",
            "_view_module_version": "1.2.0",
            "_view_name": "StyleView",
            "bar_color": null,
            "description_width": ""
          }
        },
        "71346e5fe6c54ed4bc5191780a91856c": {
          "model_module": "@jupyter-widgets/base",
          "model_name": "LayoutModel",
          "model_module_version": "1.2.0",
          "state": {
            "_model_module": "@jupyter-widgets/base",
            "_model_module_version": "1.2.0",
            "_model_name": "LayoutModel",
            "_view_count": null,
            "_view_module": "@jupyter-widgets/base",
            "_view_module_version": "1.2.0",
            "_view_name": "LayoutView",
            "align_content": null,
            "align_items": null,
            "align_self": null,
            "border": null,
            "bottom": null,
            "display": null,
            "flex": null,
            "flex_flow": null,
            "grid_area": null,
            "grid_auto_columns": null,
            "grid_auto_flow": null,
            "grid_auto_rows": null,
            "grid_column": null,
            "grid_gap": null,
            "grid_row": null,
            "grid_template_areas": null,
            "grid_template_columns": null,
            "grid_template_rows": null,
            "height": null,
            "justify_content": null,
            "justify_items": null,
            "left": null,
            "margin": null,
            "max_height": null,
            "max_width": null,
            "min_height": null,
            "min_width": null,
            "object_fit": null,
            "object_position": null,
            "order": null,
            "overflow": null,
            "overflow_x": null,
            "overflow_y": null,
            "padding": null,
            "right": null,
            "top": null,
            "visibility": null,
            "width": null
          }
        },
        "b3390f7319024425a542e522adc88ff2": {
          "model_module": "@jupyter-widgets/controls",
          "model_name": "DescriptionStyleModel",
          "model_module_version": "1.5.0",
          "state": {
            "_model_module": "@jupyter-widgets/controls",
            "_model_module_version": "1.5.0",
            "_model_name": "DescriptionStyleModel",
            "_view_count": null,
            "_view_module": "@jupyter-widgets/base",
            "_view_module_version": "1.2.0",
            "_view_name": "StyleView",
            "description_width": ""
          }
        }
      }
    }
  },
  "cells": [
    {
      "cell_type": "code",
      "execution_count": null,
      "metadata": {
        "id": "hX7LembzP_pU"
      },
      "outputs": [],
      "source": [
        "!pip install haystack-ai\n",
        "!pip install sentence-transformers"
      ]
    },
    {
      "cell_type": "code",
      "source": [
        "import os\n",
        "from getpass import getpass\n",
        "\n",
        "if \"OPENAI_API_KEY\" not in os.environ:\n",
        "    os.environ[\"OPENAI_API_KEY\"] = getpass(\"Enter OpenAI API key:\")"
      ],
      "metadata": {
        "id": "mR9MmczidDzI",
        "colab": {
          "base_uri": "https://localhost:8080/"
        },
        "outputId": "ca1b20c1-8146-4119-f04f-d5bd92fc77bf"
      },
      "execution_count": 1,
      "outputs": [
        {
          "name": "stdout",
          "output_type": "stream",
          "text": [
            "Enter OpenAI API key:··········\n"
          ]
        }
      ]
    },
    {
      "cell_type": "code",
      "source": [
        "import json\n",
        "from typing import Dict, List\n",
        "\n",
        "from haystack import Pipeline, component\n",
        "from haystack.components.builders import PromptBuilder\n",
        "from haystack.components.generators import OpenAIGenerator\n",
        "\n",
        "@component()\n",
        "class LLMMetadataQueryExtractor:\n",
        "\n",
        "    def __init__(self):\n",
        "        prompt = \"\"\"\n",
        "        You are part of an information system that processes users queries.\n",
        "        Given a user query you extract information from it that matches a given list of metadata fields.\n",
        "        The information to be extracted from the query must match the semantics associated with the given metadata fields.\n",
        "        The information that you extracted from the query will then be used as filters to narrow down the search space\n",
        "        when querying an index.\n",
        "        Don't include the name of metadata field in the extracted metadata, just the value.\n",
        "        The extracted information in 'Extracted metadata' must be returned as a valid JSON structure.\n",
        "        ###\n",
        "        Example 1:\n",
        "        Query: \"What was the revenue of Nvidia in 2022?\"\n",
        "        Metadata fields: {\"company\", \"year\"}\n",
        "        Extracted metadata fields: {\"company\": \"nvidia\", \"year\": 2022}\n",
        "        ###\n",
        "        Example 2:\n",
        "        Query: \"What were the most influential publications in 2023 regarding Alzheimers disease?\"\n",
        "        Metadata fields: {\"disease\", \"year\"}\n",
        "        Extracted metadata fields: {\"disease\": \"Alzheimers\", \"year\": 2023}\n",
        "        ###\n",
        "        Example 3:\n",
        "        Query: \"{{query}}\"\n",
        "        Metadata fields: \"{{metadata_fields}}\"\n",
        "        Extracted metadata fields:\n",
        "        \"\"\"\n",
        "        self.pipeline = Pipeline()\n",
        "        self.pipeline.add_component(name=\"builder\", instance=PromptBuilder(prompt))\n",
        "        self.pipeline.add_component(name=\"llm\", instance=OpenAIGenerator(model=\"gpt-3.5-turbo\"))\n",
        "        self.pipeline.connect(\"builder\", \"llm\")\n",
        "\n",
        "    @component.output_types(query=str, filters=Dict[str, str])\n",
        "    def run(self, query: str, metadata_fields: List[str]):\n",
        "        result = self.pipeline.run({'builder': {'query': query, 'metadata_fields': metadata_fields}})\n",
        "        metadata = json.loads(result['llm']['replies'][0])\n",
        "\n",
        "        # this will probably need to be done with specific data structures and in a more sophisticated way\n",
        "        filters = []\n",
        "        for key, value in metadata.items():\n",
        "            field = f\"meta.{key}\"\n",
        "            filters.append({f\"field\": field, \"operator\": \"==\", \"value\": value})\n",
        "\n",
        "        return {\"query\": query, \"filters\": {\"operator\": \"AND\", \"conditions\": filters}}"
      ],
      "metadata": {
        "id": "5eW_YagJUUh9"
      },
      "execution_count": 40,
      "outputs": []
    },
    {
      "cell_type": "code",
      "source": [
        "extractor = LLMMetadataQueryExtractor()\n",
        "query = \"What were the most influential publications in 2022 regarding Parkinsons disease?\"\n",
        "metadata_fields = [\"disease\", \"year\"]\n",
        "result = extractor.run(query, metadata_fields)\n",
        "print(result)"
      ],
      "metadata": {
        "id": "MvM11z63bOoq",
        "colab": {
          "base_uri": "https://localhost:8080/"
        },
        "outputId": "2559e52b-60fa-407a-c496-2076b10fa1b9"
      },
      "execution_count": 41,
      "outputs": [
        {
          "output_type": "stream",
          "name": "stdout",
          "text": [
            "{'query': 'What were the most influential publications in 2022 regarding Parkinsons disease?', 'filters': {'operator': 'AND', 'conditions': [{'field': 'meta.disease', 'operator': '==', 'value': 'Parkinsons'}, {'field': 'meta.year', 'operator': '==', 'value': 2022}]}}\n"
          ]
        }
      ]
    },
    {
      "cell_type": "code",
      "source": [
        "from haystack import Document\n",
        "from haystack.document_stores.in_memory import InMemoryDocumentStore\n",
        "from haystack.document_stores.types import DuplicatePolicy\n",
        "\n",
        "\n",
        "documents = [\n",
        "    Document(\n",
        "        content=\"some publication about Alzheimer prevention research done over 2023 patients study\",\n",
        "        meta={\"year\": 2022, \"topics\": \"Alzheimer\", \"author\": \"Michael Butter\"}),\n",
        "    Document(\n",
        "        content=\"some text about investigation and treatment of Alzheimer disease\",\n",
        "        meta={\"year\": 2023, \"topics\": \"Alzheimer\", \"author\": \"John Bread\"}),\n",
        "]\n",
        "document_store = InMemoryDocumentStore(bm25_algorithm=\"BM25Plus\")\n",
        "document_store.write_documents(documents=documents, policy=DuplicatePolicy.OVERWRITE)"
      ],
      "metadata": {
        "id": "ICoV0EbII3KK",
        "colab": {
          "base_uri": "https://localhost:8080/"
        },
        "outputId": "da5d32e0-2487-48f4-e1eb-6564d387d3cd"
      },
      "execution_count": 42,
      "outputs": [
        {
          "output_type": "execute_result",
          "data": {
            "text/plain": [
              "2"
            ]
          },
          "metadata": {},
          "execution_count": 42
        }
      ]
    },
    {
      "cell_type": "code",
      "source": [
        "from haystack import Pipeline, Document\n",
        "from haystack.components.retrievers.in_memory import InMemoryBM25Retriever\n",
        "\n",
        "\n",
        "pipeline = Pipeline()\n",
        "metadata_extractor = LLMMetadataQueryExtractor()\n",
        "retriever = InMemoryBM25Retriever(document_store=document_store)\n",
        "\n",
        "pipeline.add_component(instance=metadata_extractor, name=\"metadata_extractor\")\n",
        "pipeline.add_component(instance=retriever, name=\"retriever\")\n",
        "pipeline.connect(\"metadata_extractor.query\", \"retriever.query\")\n",
        "pipeline.connect(\"metadata_extractor.filters\", \"retriever.filters\")"
      ],
      "metadata": {
        "colab": {
          "base_uri": "https://localhost:8080/"
        },
        "id": "J9wS1B92OqhX",
        "outputId": "96ae9073-5aa2-45bf-82ab-4385c30a607c"
      },
      "execution_count": 43,
      "outputs": [
        {
          "output_type": "execute_result",
          "data": {
            "text/plain": [
              "<haystack.core.pipeline.pipeline.Pipeline object at 0x7ea7e37d41c0>\n",
              "🚅 Components\n",
              "  - metadata_extractor: LLMMetadataQueryExtractor\n",
              "  - retriever: InMemoryBM25Retriever\n",
              "🛤️ Connections\n",
              "  - metadata_extractor.query -> retriever.query (str)\n",
              "  - metadata_extractor.filters -> retriever.filters (Dict[str, str])"
            ]
          },
          "metadata": {},
          "execution_count": 43
        }
      ]
    },
    {
      "cell_type": "code",
      "source": [
        "query = \"2023 publications about Alzheimer\"\n",
        "metadata_fields = [\"year\", \"author\", \"topics\"]\n",
        "\n",
        "pipeline.run(data={\"metadata_extractor\": {\"query\": query, \"metadata_fields\": metadata_fields}})"
      ],
      "metadata": {
        "colab": {
          "base_uri": "https://localhost:8080/",
          "height": 84,
          "referenced_widgets": [
            "2ec658e152a0446fafdca7e3871941fd",
            "c8f8b26d39d24fdf9f1cb0486fdbe7f4",
            "562fe276fbb744c592f3415dad3d73ce",
            "56e03c5c4cd044babe9c5615d73d6f48",
            "c233714a82c449d493a80de27802c768",
            "61b38410d626461495dac68c00151861",
            "6f714a6073b847a7a8abf28b88f0aec3",
            "ef87d486f16645ca8bff0bbd6d45311e",
            "3b323667b332464e8f9fb74a7e25ef23",
            "71346e5fe6c54ed4bc5191780a91856c",
            "b3390f7319024425a542e522adc88ff2"
          ]
        },
        "id": "Jw0XqD7OOsuX",
        "outputId": "10864fb1-9328-4651-e3f7-fb7dd15a931d"
      },
      "execution_count": 44,
      "outputs": [
        {
          "output_type": "display_data",
          "data": {
            "text/plain": [
              "Ranking by BM25...:   0%|          | 0/1 [00:00<?, ? docs/s]"
            ],
            "application/vnd.jupyter.widget-view+json": {
              "version_major": 2,
              "version_minor": 0,
              "model_id": "2ec658e152a0446fafdca7e3871941fd"
            }
          },
          "metadata": {}
        },
        {
          "output_type": "execute_result",
          "data": {
            "text/plain": [
              "{'retriever': {'documents': [Document(id=763ca34dd9c4d46ab6f9daed6819ff9a4481b95cf9369bf70692328002f56952, content: 'some text about investigation and treatment of Alzheimer disease', meta: {'year': 2023, 'topics': 'Alzheimer', 'author': 'John Bread'}, score: 2.772588722239781)]}}"
            ]
          },
          "metadata": {},
          "execution_count": 44
        }
      ]
    }
  ]
}